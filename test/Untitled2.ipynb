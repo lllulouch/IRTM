{
 "cells": [
  {
   "cell_type": "code",
   "execution_count": null,
   "metadata": {},
   "outputs": [],
   "source": [
    "import pickle\n",
    "import matplotlib.pyplot as plt\n",
    "%matplotlib inline\n",
    "plt.style.use('ggplot')"
   ]
  },
  {
   "cell_type": "code",
   "execution_count": null,
   "metadata": {},
   "outputs": [],
   "source": [
    "with open(\"mav_ImpCHI_ml.txt\", \"rb\") as f:\n",
    "    mav_ImpCHI_ml = pickle.load(f)"
   ]
  },
  {
   "cell_type": "code",
   "execution_count": null,
   "metadata": {},
   "outputs": [],
   "source": [
    "with open(\"miv_ImpCHI_ml.txt\", \"rb\") as f:\n",
    "    miv_ImpCHI_ml = pickle.load(f)"
   ]
  },
  {
   "cell_type": "code",
   "execution_count": null,
   "metadata": {},
   "outputs": [],
   "source": [
    "with open(\"mav_chi_ml.txt\", \"rb\") as f:\n",
    "    mav_chi_ml = pickle.load(f)"
   ]
  },
  {
   "cell_type": "code",
   "execution_count": null,
   "metadata": {},
   "outputs": [],
   "source": [
    "with open(\"miv_chi_ml.txt\", \"rb\") as f:\n",
    "    miv_chi_ml = pickle.load(f)"
   ]
  },
  {
   "cell_type": "code",
   "execution_count": null,
   "metadata": {},
   "outputs": [],
   "source": [
    "with open(\"mav_ImpCHI_b.txt\", \"rb\") as f:\n",
    "    mav_ImpCHI_b = pickle.load(f)"
   ]
  },
  {
   "cell_type": "code",
   "execution_count": null,
   "metadata": {},
   "outputs": [],
   "source": [
    "with open(\"miv_ImpCHI_b.txt\", \"rb\") as f:\n",
    "    miv_ImpCHI_b = pickle.load(f)"
   ]
  },
  {
   "cell_type": "code",
   "execution_count": null,
   "metadata": {},
   "outputs": [],
   "source": [
    "with open(\"mav_chi_b.txt\", \"rb\") as f:\n",
    "    mav_chi_b = pickle.load(f)"
   ]
  },
  {
   "cell_type": "code",
   "execution_count": null,
   "metadata": {},
   "outputs": [],
   "source": [
    "with open(\"miv_chi_b.txt\", \"rb\") as f:\n",
    "    miv_chi_b = pickle.load(f)"
   ]
  },
  {
   "cell_type": "code",
   "execution_count": null,
   "metadata": {},
   "outputs": [],
   "source": [
    "x = [200, 400, 600, 800, 1000]"
   ]
  },
  {
   "cell_type": "code",
   "execution_count": null,
   "metadata": {},
   "outputs": [],
   "source": [
    "plt.plot(x, mav_ImpCHI_ml, label='ImpCHI + Multinomial')\n",
    "plt.plot(x, mav_chi_ml, label='chi^2 + Multinomial')\n",
    "plt.plot(x, mav_ImpCHI_b, label='ImpCHI + Bernoulli')\n",
    "plt.plot(x, mav_chi_b, label='chi^2 + Bernoulli')\n",
    "plt.title('Macro F1 Score')\n",
    "plt.xlabel('Feature Size')\n",
    "plt.ylabel('Macro F1 Score')\n",
    "plt.legend()\n",
    "plt.savefig('macrof1.png')\n",
    "plt.show()"
   ]
  },
  {
   "cell_type": "code",
   "execution_count": null,
   "metadata": {},
   "outputs": [],
   "source": [
    "plt.plot(x, miv_ImpCHI_ml, label='ImpCHI + Multinomial')\n",
    "plt.plot(x, miv_chi_ml, label='chi^2 + Multinomial')\n",
    "plt.plot(x, miv_ImpCHI_b, label='ImpCHI + Bernoulli')\n",
    "plt.plot(x, miv_chi_b, label='chi^2 + Bernoulli')\n",
    "plt.title('Micro F1 Score')\n",
    "plt.xlabel('Feature Size')\n",
    "plt.ylabel('Micro F1 Score')\n",
    "plt.legend()\n",
    "plt.savefig('microf1.png')\n",
    "plt.show()"
   ]
  },
  {
   "cell_type": "code",
   "execution_count": null,
   "metadata": {},
   "outputs": [],
   "source": [
    "miv_chi_b"
   ]
  },
  {
   "cell_type": "code",
   "execution_count": null,
   "metadata": {},
   "outputs": [],
   "source": [
    "miv_ImpCHI_b"
   ]
  },
  {
   "cell_type": "code",
   "execution_count": null,
   "metadata": {},
   "outputs": [],
   "source": [
    "mav_chi_b"
   ]
  },
  {
   "cell_type": "code",
   "execution_count": null,
   "metadata": {},
   "outputs": [],
   "source": [
    "mav_ImpCHI_b"
   ]
  },
  {
   "cell_type": "code",
   "execution_count": null,
   "metadata": {},
   "outputs": [],
   "source": []
  }
 ],
 "metadata": {
  "kernelspec": {
   "display_name": "Python 3",
   "language": "python",
   "name": "python3"
  },
  "language_info": {
   "codemirror_mode": {
    "name": "ipython",
    "version": 3
   },
   "file_extension": ".py",
   "mimetype": "text/x-python",
   "name": "python",
   "nbconvert_exporter": "python",
   "pygments_lexer": "ipython3",
   "version": "3.8.4"
  }
 },
 "nbformat": 4,
 "nbformat_minor": 4
}
