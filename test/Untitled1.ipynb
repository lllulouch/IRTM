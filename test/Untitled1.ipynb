{
 "cells": [
  {
   "cell_type": "code",
   "execution_count": null,
   "metadata": {},
   "outputs": [],
   "source": [
    "import pandas as pd\n",
    "import numpy as np\n",
    "import matplotlib.pyplot as plt\n",
    "%matplotlib inline\n",
    "plt.style.use('ggplot')"
   ]
  },
  {
   "cell_type": "code",
   "execution_count": null,
   "metadata": {},
   "outputs": [],
   "source": [
    "df = pd.read_csv('../data/irtm.csv')"
   ]
  },
  {
   "cell_type": "code",
   "execution_count": null,
   "metadata": {},
   "outputs": [],
   "source": [
    "df.head()"
   ]
  },
  {
   "cell_type": "code",
   "execution_count": null,
   "metadata": {},
   "outputs": [],
   "source": [
    "df[[len(str(c)) < 100 for c in df['content']]]"
   ]
  },
  {
   "cell_type": "code",
   "execution_count": null,
   "metadata": {},
   "outputs": [],
   "source": [
    "df = df[np.array([len(str(c)) >= 100 for c in df['content']]) & np.array([cls in ['euclid', 'keter', 'safe'] for cls in df['object_class']])].reset_index(drop=True)\n",
    "df.head()"
   ]
  },
  {
   "cell_type": "code",
   "execution_count": null,
   "metadata": {},
   "outputs": [],
   "source": [
    "df.shape"
   ]
  },
  {
   "cell_type": "code",
   "execution_count": null,
   "metadata": {},
   "outputs": [],
   "source": [
    "from pa3_NB import *"
   ]
  },
  {
   "cell_type": "code",
   "execution_count": null,
   "metadata": {},
   "outputs": [],
   "source": [
    "fact = pd.factorize(df.object_class)"
   ]
  },
  {
   "cell_type": "code",
   "execution_count": null,
   "metadata": {},
   "outputs": [],
   "source": [
    "len(fact[1])"
   ]
  },
  {
   "cell_type": "code",
   "execution_count": null,
   "metadata": {},
   "outputs": [],
   "source": [
    "dataset = Dataset(np.arange(5365), fact[0]+1)"
   ]
  },
  {
   "cell_type": "code",
   "execution_count": null,
   "metadata": {},
   "outputs": [],
   "source": [
    "terms = read_dict(Config.dictionary_file)"
   ]
  },
  {
   "cell_type": "code",
   "execution_count": null,
   "metadata": {},
   "outputs": [],
   "source": [
    "len(terms)"
   ]
  },
  {
   "cell_type": "code",
   "execution_count": null,
   "metadata": {},
   "outputs": [],
   "source": [
    "for i in range(100, 1001, 100):\n",
    "    print(i)"
   ]
  },
  {
   "cell_type": "code",
   "execution_count": null,
   "metadata": {},
   "outputs": [],
   "source": [
    "import copy\n",
    "mat = []\n",
    "mit = []\n",
    "mav = []\n",
    "miv = []\n",
    "for i in range(200, 1001, 200):\n",
    "    t = terms.copy()\n",
    "    d = copy.deepcopy(dataset)\n",
    "    dictionary = max_seg_chi2(t, d, size=i)\n",
    "    clf = Classifier(dictionary, class_size=3)\n",
    "    ma_train_f1, mi_train_f1, ma_valid_f1, mi_valid_f1 = cross_validation(clf, d, fold=5, seed=1126)\n",
    "    mat.append(ma_train_f1)\n",
    "    mit.append(mi_train_f1)\n",
    "    mav.append(ma_valid_f1)\n",
    "    miv.append(mi_valid_f1)\n",
    "    print(f'--- Size: {i} ---')\n",
    "    print(f'macro f1 (train): {ma_train_f1}')\n",
    "    print(f'micro f1 (train): {mi_train_f1}')\n",
    "    print(f'macro f1 (valid): {ma_valid_f1}')\n",
    "    print(f'micro f1 (valid): {mi_valid_f1}')"
   ]
  },
  {
   "cell_type": "code",
   "execution_count": null,
   "metadata": {},
   "outputs": [],
   "source": [
    "import copy\n",
    "mat_mc = []\n",
    "mit_mc = []\n",
    "mav_mc = []\n",
    "miv_mc = []\n",
    "for i in range(200, 1001, 200):\n",
    "    t = terms.copy()\n",
    "    d = copy.deepcopy(dataset)\n",
    "    dictionary = max_chi2(t, d, size=i)\n",
    "    clf = Classifier(dictionary, class_size=3)\n",
    "    ma_train_f1, mi_train_f1, ma_valid_f1, mi_valid_f1 = cross_validation(clf, d, fold=5, seed=1126)\n",
    "    mat_mc.append(ma_train_f1)\n",
    "    mit_mc.append(mi_train_f1)\n",
    "    mav_mc.append(ma_valid_f1)\n",
    "    miv_mc.append(mi_valid_f1)\n",
    "    print(f'--- Size: {i} ---')\n",
    "    print(f'macro f1 (train): {ma_train_f1}')\n",
    "    print(f'micro f1 (train): {mi_train_f1}')\n",
    "    print(f'macro f1 (valid): {ma_valid_f1}')\n",
    "    print(f'micro f1 (valid): {mi_valid_f1}')"
   ]
  },
  {
   "cell_type": "code",
   "execution_count": null,
   "metadata": {},
   "outputs": [],
   "source": [
    "plt.plot(mav, label='ImpCHI')\n",
    "plt.plot(mav_mc, label='chi^2')\n",
    "plt.legend()\n",
    "plt.show()"
   ]
  },
  {
   "cell_type": "code",
   "execution_count": null,
   "metadata": {},
   "outputs": [],
   "source": [
    "import pickle"
   ]
  },
  {
   "cell_type": "code",
   "execution_count": null,
   "metadata": {},
   "outputs": [],
   "source": [
    "with open(\"mav_ImpCHI_b.txt\", \"wb\") as f:\n",
    "    pickle.dump(mav, f)"
   ]
  },
  {
   "cell_type": "code",
   "execution_count": null,
   "metadata": {},
   "outputs": [],
   "source": [
    "with open(\"miv_ImpCHI_b.txt\", \"wb\") as f:\n",
    "    pickle.dump(miv, f)"
   ]
  },
  {
   "cell_type": "code",
   "execution_count": null,
   "metadata": {},
   "outputs": [],
   "source": [
    "with open(\"mav_chi_b.txt\", \"wb\") as f:\n",
    "    pickle.dump(mav_mc, f)"
   ]
  },
  {
   "cell_type": "code",
   "execution_count": null,
   "metadata": {},
   "outputs": [],
   "source": [
    "with open(\"miv_chi_b.txt\", \"wb\") as f:\n",
    "    pickle.dump(miv_mc, f)"
   ]
  },
  {
   "cell_type": "code",
   "execution_count": null,
   "metadata": {},
   "outputs": [],
   "source": []
  }
 ],
 "metadata": {
  "kernelspec": {
   "display_name": "Python 3",
   "language": "python",
   "name": "python3"
  },
  "language_info": {
   "codemirror_mode": {
    "name": "ipython",
    "version": 3
   },
   "file_extension": ".py",
   "mimetype": "text/x-python",
   "name": "python",
   "nbconvert_exporter": "python",
   "pygments_lexer": "ipython3",
   "version": "3.8.4"
  }
 },
 "nbformat": 4,
 "nbformat_minor": 4
}
