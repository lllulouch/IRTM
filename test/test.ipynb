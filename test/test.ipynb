{
 "cells": [
  {
   "cell_type": "code",
   "execution_count": null,
   "metadata": {},
   "outputs": [],
   "source": [
    "import pandas as pd\n",
    "import numpy as np\n",
    "import matplotlib.pyplot as plt\n",
    "%matplotlib inline"
   ]
  },
  {
   "cell_type": "code",
   "execution_count": null,
   "metadata": {},
   "outputs": [],
   "source": [
    "df = pd.read_csv('../data/irtm.csv')"
   ]
  },
  {
   "cell_type": "code",
   "execution_count": null,
   "metadata": {},
   "outputs": [],
   "source": [
    "df.head()"
   ]
  },
  {
   "cell_type": "code",
   "execution_count": null,
   "metadata": {},
   "outputs": [],
   "source": [
    "df[[len(str(c)) < 100 for c in df['content']]]"
   ]
  },
  {
   "cell_type": "code",
   "execution_count": null,
   "metadata": {},
   "outputs": [],
   "source": [
    "df = df[np.array([len(str(c)) >= 100 for c in df['content']]) & np.array([cls in ['euclid', 'keter', 'safe'] for cls in df['object_class']])].reset_index(drop=True)\n",
    "df.head()"
   ]
  },
  {
   "cell_type": "code",
   "execution_count": null,
   "metadata": {},
   "outputs": [],
   "source": [
    "df.shape"
   ]
  },
  {
   "cell_type": "markdown",
   "metadata": {},
   "source": [
    "### Create dictionary"
   ]
  },
  {
   "cell_type": "code",
   "execution_count": null,
   "metadata": {},
   "outputs": [],
   "source": [
    "from pa2 import make_dict\n",
    "# dic = make_dict(df['content'])"
   ]
  },
  {
   "cell_type": "code",
   "execution_count": null,
   "metadata": {},
   "outputs": [],
   "source": [
    "from pa2 import save_dict\n",
    "# save_dict(dic, 'dictionary.txt')"
   ]
  },
  {
   "cell_type": "markdown",
   "metadata": {},
   "source": [
    "### Create vectors"
   ]
  },
  {
   "cell_type": "code",
   "execution_count": null,
   "metadata": {},
   "outputs": [],
   "source": [
    "from pa2 import create_vector\n",
    "# create_vector(df['content'], df.index)"
   ]
  },
  {
   "cell_type": "markdown",
   "metadata": {},
   "source": [
    "### Get dataset"
   ]
  },
  {
   "cell_type": "code",
   "execution_count": null,
   "metadata": {},
   "outputs": [],
   "source": [
    "from pa3_NB import *"
   ]
  },
  {
   "cell_type": "code",
   "execution_count": null,
   "metadata": {},
   "outputs": [],
   "source": [
    "fact = pd.factorize(df.object_class)"
   ]
  },
  {
   "cell_type": "code",
   "execution_count": null,
   "metadata": {},
   "outputs": [],
   "source": [
    "len(fact[1])"
   ]
  },
  {
   "cell_type": "code",
   "execution_count": null,
   "metadata": {},
   "outputs": [],
   "source": [
    "dataset = Dataset(np.arange(5365), fact[0]+1)"
   ]
  },
  {
   "cell_type": "code",
   "execution_count": null,
   "metadata": {},
   "outputs": [],
   "source": [
    "terms = read_dict(Config.dictionary_file)"
   ]
  },
  {
   "cell_type": "code",
   "execution_count": null,
   "metadata": {},
   "outputs": [],
   "source": [
    "plt.hist([df for i, (string, df, cf) in terms], density=True)\n",
    "plt.title('Document Frequency')\n",
    "plt.show()"
   ]
  },
  {
   "cell_type": "code",
   "execution_count": null,
   "metadata": {},
   "outputs": [],
   "source": [
    "plt.hist([cf for i, (string, df, cf) in terms], density=True)\n",
    "plt.title('Collection Frequency')\n",
    "plt.show()"
   ]
  },
  {
   "cell_type": "markdown",
   "metadata": {},
   "source": [
    "### Feature Selection"
   ]
  },
  {
   "cell_type": "code",
   "execution_count": null,
   "metadata": {},
   "outputs": [],
   "source": [
    "dictionary = max_seg_chi2(terms, dataset, size=150)"
   ]
  },
  {
   "cell_type": "code",
   "execution_count": null,
   "metadata": {},
   "outputs": [],
   "source": [
    "clf = Classifier(dictionary, class_size=3)"
   ]
  },
  {
   "cell_type": "code",
   "execution_count": null,
   "metadata": {},
   "outputs": [],
   "source": [
    "ma_train_f1, mi_train_f1, ma_valid_f1, mi_valid_f1 = cross_validation(clf, dataset, seed=1126)"
   ]
  },
  {
   "cell_type": "code",
   "execution_count": null,
   "metadata": {},
   "outputs": [],
   "source": [
    "print(f'macro f1 (train): {ma_train_f1}')\n",
    "print(f'micro f1 (train): {mi_train_f1}')\n",
    "print(f'macro f1 (valid): {ma_valid_f1}')\n",
    "print(f'micro f1 (valid): {mi_valid_f1}')"
   ]
  },
  {
   "cell_type": "markdown",
   "metadata": {},
   "source": [
    "### Confusion Matrix"
   ]
  },
  {
   "cell_type": "code",
   "execution_count": null,
   "metadata": {},
   "outputs": [],
   "source": [
    "def confusion_matrix(clf, dataset, fold=10, permutation=True, seed=None):\n",
    "  if seed:\n",
    "    np.random.seed(seed)\n",
    "    random.seed(seed)\n",
    "  n = len(dataset)\n",
    "  if permutation:\n",
    "    permute = np.random.permutation(n)\n",
    "  else:\n",
    "    permute = np.arange(n)\n",
    "  width = int(np.ceil(n / fold))\n",
    "  left = 0\n",
    "  right = width\n",
    "  mat = np.zeros((Config.class_size, Config.class_size))\n",
    "  for i in range(fold):\n",
    "    train_permute = np.concatenate((permute[:left], permute[right:]))\n",
    "    test_permute = permute[left:right]\n",
    "#     test_permute = np.concatenate((permute[:left], permute[right:]))\n",
    "#     train_permute = permute[left:right]\n",
    "    left += width\n",
    "    right += width\n",
    "    dataset_train, dataset_test = train_test_split(dataset, train_permute, test_permute)\n",
    "    clf.train(dataset_train)\n",
    "    pred = clf.predict(dataset_test)\n",
    "#     print(min(dataset_test.y), max(dataset_test.y))\n",
    "#     print(np.unique(pred[:,1], return_counts=True))\n",
    "    for i in range(len(dataset_test)):\n",
    "        mat[pred[i,1]-1, int(dataset_test.y[i]-1)] += 1\n",
    "  mat /= fold\n",
    "  return mat"
   ]
  },
  {
   "cell_type": "code",
   "execution_count": null,
   "metadata": {},
   "outputs": [],
   "source": [
    "mat = confusion_matrix(clf, dataset)"
   ]
  },
  {
   "cell_type": "markdown",
   "metadata": {},
   "source": [
    "- safe < euclid < keter\n",
    "- thaumiel\n",
    "- neutralized"
   ]
  },
  {
   "cell_type": "code",
   "execution_count": null,
   "metadata": {},
   "outputs": [],
   "source": [
    "import seaborn as sns\n",
    "print(fact[1])\n",
    "sns.heatmap(mat, annot=True,  linewidths=.5)\n",
    "plt.show()"
   ]
  },
  {
   "cell_type": "code",
   "execution_count": null,
   "metadata": {},
   "outputs": [],
   "source": [
    "print('Precision')\n",
    "print(fact[1])\n",
    "print(np.diag(mat) / np.sum(mat, axis=1))"
   ]
  },
  {
   "cell_type": "code",
   "execution_count": null,
   "metadata": {},
   "outputs": [],
   "source": [
    "print('Recall')\n",
    "print(fact[1])\n",
    "print(np.diag(mat) / np.sum(mat, axis=0))"
   ]
  },
  {
   "cell_type": "code",
   "execution_count": null,
   "metadata": {},
   "outputs": [],
   "source": [
    "print('F1')\n",
    "print(fact[1])\n",
    "p = np.diag(mat) / np.sum(mat, axis=1)\n",
    "r = np.diag(mat) / np.sum(mat, axis=0)\n",
    "f = 2 * p * r / (p + r)\n",
    "print(f)"
   ]
  },
  {
   "cell_type": "code",
   "execution_count": null,
   "metadata": {},
   "outputs": [],
   "source": [
    "fig, ax = plt.subplots()\n",
    "\n",
    "x = np.arange(len(fact[1]))\n",
    "\n",
    "width = 0.2\n",
    "rects1 = ax.bar(x - width, p, width, label='Precision')\n",
    "rects2 = ax.bar(x, r, width, label='Recall')\n",
    "rects1 = ax.bar(x + width, f, width, label='F1')\n",
    "\n",
    "ax.set_ylabel('Scores')\n",
    "ax.set_title('Scores by class')\n",
    "ax.set_xticks(x)\n",
    "ax.set_xticklabels(fact[1])\n",
    "ax.legend()\n",
    "\n",
    "plt.show()"
   ]
  },
  {
   "cell_type": "code",
   "execution_count": null,
   "metadata": {},
   "outputs": [],
   "source": [
    "sum(df.object_class == 'thaumiel')"
   ]
  },
  {
   "cell_type": "markdown",
   "metadata": {},
   "source": [
    "### Check the selected terms"
   ]
  },
  {
   "cell_type": "code",
   "execution_count": null,
   "metadata": {},
   "outputs": [],
   "source": [
    "np.array(terms, dtype=object)[np.array(dictionary)-1]"
   ]
  },
  {
   "cell_type": "code",
   "execution_count": null,
   "metadata": {},
   "outputs": [],
   "source": []
  },
  {
   "cell_type": "code",
   "execution_count": null,
   "metadata": {},
   "outputs": [],
   "source": []
  }
 ],
 "metadata": {
  "kernelspec": {
   "display_name": "Python 3",
   "language": "python",
   "name": "python3"
  },
  "language_info": {
   "codemirror_mode": {
    "name": "ipython",
    "version": 3
   },
   "file_extension": ".py",
   "mimetype": "text/x-python",
   "name": "python",
   "nbconvert_exporter": "python",
   "pygments_lexer": "ipython3",
   "version": "3.7.6"
  }
 },
 "nbformat": 4,
 "nbformat_minor": 4
}
